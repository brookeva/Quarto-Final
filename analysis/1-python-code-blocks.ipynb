{
  "cells": [
    {
      "cell_type": "raw",
      "metadata": {},
      "source": [
        "---\n",
        "title: \"Python code blocks\"\n",
        "format:\n",
        "  html:\n",
        "    code-fold: true\n",
        "---"
      ],
      "id": "8e599288"
    },
    {
      "cell_type": "markdown",
      "metadata": {},
      "source": [
        "This is an example from the [Quarto documentation](https://quarto.org/docs/computations/python.html)\n",
        "that shows how to mix executable Python code blocks into a markdown file in a \"Quarto markdown\" `.qmd` file.\n",
        "\n",
        "For a demonstration of a line plot on a polar axis, see @fig-polar.\n"
      ],
      "id": "e12ed25e"
    },
    {
      "cell_type": "code",
      "metadata": {},
      "source": [
        "#| label: fig-polar\n",
        "#| fig-cap: A line plot on a polar axis\n",
        "\n",
        "import requests\n",
        "import pandas as pd\n",
        "import numpy as np\n",
        "import geopandas as gpd\n",
        "from shapely.geometry import Point\n",
        "from matplotlib import pyplot as plt\n",
        "import hvplot.pandas \n",
        "import holoviews as hv\n",
        "import geoviews as gv\n",
        "import geoviews as gv\n",
        "from bokeh.plotting import show\n",
        "from bokeh.models import PrintfTickFormatter\n",
        "import altair as alt\n",
        "import io\n",
        "import panel as pn\n",
        "import pandas as pd\n",
        "import hvplot.pandas\n",
        "\n",
        "r = np.arange(0, 2, 0.01)\n",
        "theta = 2 * np.pi * r\n",
        "fig, ax = plt.subplots(\n",
        "  subplot_kw = {'projection': 'polar'} \n",
        ")\n",
        "ax.plot(theta, r)\n",
        "ax.set_rticks([0.5, 1, 1.5, 2])\n",
        "ax.grid(True)\n",
        "plt.show()"
      ],
      "id": "fig-polar",
      "execution_count": null,
      "outputs": []
    }
  ],
  "metadata": {
    "kernelspec": {
      "display_name": "Python 3",
      "language": "python",
      "name": "python3"
    }
  },
  "nbformat": 4,
  "nbformat_minor": 5
}